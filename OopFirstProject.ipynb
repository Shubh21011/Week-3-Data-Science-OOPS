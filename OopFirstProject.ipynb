{
  "nbformat": 4,
  "nbformat_minor": 0,
  "metadata": {
    "colab": {
      "provenance": [],
      "authorship_tag": "ABX9TyMSQO9GzzyuZFMJZQL7YM6D",
      "include_colab_link": true
    },
    "kernelspec": {
      "name": "python3",
      "display_name": "Python 3"
    },
    "language_info": {
      "name": "python"
    }
  },
  "cells": [
    {
      "cell_type": "markdown",
      "metadata": {
        "id": "view-in-github",
        "colab_type": "text"
      },
      "source": [
        "<a href=\"https://colab.research.google.com/github/Shubh21011/Week-3-Data-Science-OOPS/blob/main/OopFirstProject.ipynb\" target=\"_parent\"><img src=\"https://colab.research.google.com/assets/colab-badge.svg\" alt=\"Open In Colab\"/></a>"
      ]
    },
    {
      "cell_type": "markdown",
      "source": [
        "**Writing a program of ATM functionality using OOP concept**"
      ],
      "metadata": {
        "id": "USM9hUFZKbz7"
      }
    },
    {
      "cell_type": "code",
      "source": [
        "class Atm:\n",
        "  def __init__(self):\n",
        "    self.pin = ''\n",
        "    self.balance=0\n",
        "\n",
        "  def menu(self):\n",
        "    user_input = input('''\n",
        "    Hello, how would you like to proceed?\n",
        "    1. Enter 1 to create pin\n",
        "    2. Enter 2 to deposit amount\n",
        "    3. Enter 3 to withdraw amount\n",
        "    4. Enter 4 to check balance\n",
        "    5. Enter 5 to exit\n",
        "    ''')\n",
        "    if user_input == '1':\n",
        "      self.create_pin()\n",
        "    elif user_input == '2':\n",
        "      self.deposit()\n",
        "    elif user_input == '3':\n",
        "      self.withdraw()\n",
        "    elif user_input == '4':\n",
        "      self.check_balance()\n",
        "    else:\n",
        "      exit()\n",
        "  def create_pin(self):\n",
        "    user_pin = input('Enter your pin')\n",
        "    self.pin = user_pin\n",
        "    user_balance = int(input('Enter balance'))\n",
        "    self.balance = user_balance\n",
        "    print('Pin created successfully')\n",
        "    self.menu()\n",
        "  def deposit(self):\n",
        "    user_pin = input('Enter the pin')\n",
        "    if user_pin == self.pin:\n",
        "      amount = int(input('ENter the amount to deposit'))\n",
        "      self.balance = self.balance + amount\n",
        "      print('Deposit successful')\n",
        "    else:\n",
        "      print('Enter wrong pin')\n",
        "    self.menu()\n",
        "  def withdraw(self):\n",
        "    user_pin = input('Enter the pin')\n",
        "    if user_pin == self.pin:\n",
        "      amount = int(input('Enter the amount to withdraw'))\n",
        "      if amount <= self.balance:\n",
        "        self.balance = self.balance-amount\n",
        "        print('Withdrawn successful')\n",
        "        print('Remaining balance is ',self.balance)\n",
        "      else:\n",
        "        print('Insufficient balance')\n",
        "    else:\n",
        "      print('Enter wrong pin')\n",
        "    self.menu()\n",
        "  def check_balance(self):\n",
        "    user_pin = input('Enter the pin')\n",
        "    if user_pin == self.pin:\n",
        "      print('Your balance is ',self.balance)\n",
        "    else:\n",
        "      print('Enter wrong pin')\n",
        "    self.menu()\n",
        "\n",
        "obj = Atm()\n",
        "obj.menu()\n",
        ""
      ],
      "metadata": {
        "colab": {
          "base_uri": "https://localhost:8080/"
        },
        "id": "eTYDYjNXK0DX",
        "outputId": "9dea083a-e14d-42fd-c27a-ece072a17ab0"
      },
      "execution_count": 1,
      "outputs": [
        {
          "name": "stdout",
          "output_type": "stream",
          "text": [
            "\n",
            "    Hello, how would you like to proceed?\n",
            "    1. Enter 1 to create pin\n",
            "    2. Enter 2 to deposit amount\n",
            "    3. Enter 3 to withdraw amount\n",
            "    4. Enter 4 to check balance\n",
            "    5. Enter 5 to exit\n",
            "    1\n",
            "Enter your pin1234\n",
            "Enter balance20000\n",
            "Pin created successfully\n",
            "\n",
            "    Hello, how would you like to proceed?\n",
            "    1. Enter 1 to create pin\n",
            "    2. Enter 2 to deposit amount\n",
            "    3. Enter 3 to withdraw amount\n",
            "    4. Enter 4 to check balance\n",
            "    5. Enter 5 to exit\n",
            "    3\n",
            "Enter the pin1234\n",
            "Enter the amount to withdraw15000\n",
            "Withdrawn successful\n",
            "Remaining balance is  5000\n",
            "\n",
            "    Hello, how would you like to proceed?\n",
            "    1. Enter 1 to create pin\n",
            "    2. Enter 2 to deposit amount\n",
            "    3. Enter 3 to withdraw amount\n",
            "    4. Enter 4 to check balance\n",
            "    5. Enter 5 to exit\n",
            "    2\n",
            "Enter the pin1234\n",
            "ENter the amount to deposit2000000\n",
            "Deposit successful\n",
            "\n",
            "    Hello, how would you like to proceed?\n",
            "    1. Enter 1 to create pin\n",
            "    2. Enter 2 to deposit amount\n",
            "    3. Enter 3 to withdraw amount\n",
            "    4. Enter 4 to check balance\n",
            "    5. Enter 5 to exit\n",
            "    4\n",
            "Enter the pin1234\n",
            "Your balance is  2005000\n",
            "\n",
            "    Hello, how would you like to proceed?\n",
            "    1. Enter 1 to create pin\n",
            "    2. Enter 2 to deposit amount\n",
            "    3. Enter 3 to withdraw amount\n",
            "    4. Enter 4 to check balance\n",
            "    5. Enter 5 to exit\n",
            "    5\n"
          ]
        }
      ]
    }
  ]
}