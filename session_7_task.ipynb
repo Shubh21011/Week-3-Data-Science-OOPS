{
  "nbformat": 4,
  "nbformat_minor": 0,
  "metadata": {
    "colab": {
      "provenance": [],
      "include_colab_link": true
    },
    "kernelspec": {
      "name": "python3",
      "display_name": "Python 3"
    },
    "language_info": {
      "name": "python"
    }
  },
  "cells": [
    {
      "cell_type": "markdown",
      "metadata": {
        "id": "view-in-github",
        "colab_type": "text"
      },
      "source": [
        "<a href=\"https://colab.research.google.com/github/Shubh21011/Week-3-Data-Science-OOPS/blob/main/session_7_task.ipynb\" target=\"_parent\"><img src=\"https://colab.research.google.com/assets/colab-badge.svg\" alt=\"Open In Colab\"/></a>"
      ]
    },
    {
      "cell_type": "markdown",
      "source": [
        "##`Q-1:` Rectangle Class\n",
        "1. Write a Rectangle class in Python language, allowing you to build a rectangle with length and width attributes.\n",
        "\n",
        "2. Create a Perimeter() method to calculate the perimeter of the rectangle and a Area() method to calculate the area of ​​the rectangle.\n",
        "\n",
        "3. Create a method display() that display the length, width, perimeter and area of an object created using an instantiation on rectangle class."
      ],
      "metadata": {
        "id": "FyUJ3PRAsPr4"
      }
    },
    {
      "cell_type": "markdown",
      "source": [
        "Eg.\n",
        "After making above classes and methods, on executing below code:-\n",
        "```\n",
        "my_rectangle = Rectangle(3 , 4)\n",
        "my_rectangle.display()\n",
        "```\n",
        "\n",
        "`Output:`\n",
        "```\n",
        "The length of rectangle is:  3\n",
        "The width of rectangle is:  4\n",
        "The perimeter of rectangle is:  14\n",
        "The area of rectangle is:  12\n",
        "```\n"
      ],
      "metadata": {
        "id": "GxUtOqJfssFK"
      }
    },
    {
      "cell_type": "code",
      "source": [
        "# write your code here\n",
        "class Rectangle:\n",
        "  def __init__(self,length,width):\n",
        "    self.__length=length\n",
        "    self.__width=width\n",
        "  def perimeter(self):\n",
        "    return 2*(self.__length+self.__width)\n",
        "  def area(self):\n",
        "    return self.__length*self.__width\n",
        "  def display(self):\n",
        "    print(\"The length of rectangle is: \",self.__length)\n",
        "    print(\"The width of rectangle is: \",self.__width)\n",
        "    print(\"The perimeter of rectangle is: \",self.perimeter())\n",
        "    print(\"The area of rectangle is: \",self.area())\n",
        "my_rectangle = Rectangle(3 , 4)\n",
        "my_rectangle.display()\n"
      ],
      "metadata": {
        "id": "92_QT-Uj6NBg",
        "colab": {
          "base_uri": "https://localhost:8080/"
        },
        "outputId": "85f45aca-05f9-4081-c84f-487b304cc3b5"
      },
      "execution_count": 1,
      "outputs": [
        {
          "output_type": "stream",
          "name": "stdout",
          "text": [
            "The length of rectangle is:  3\n",
            "The width of rectangle is:  4\n",
            "The perimeter of rectangle is:  14\n",
            "The area of rectangle is:  12\n"
          ]
        }
      ]
    },
    {
      "cell_type": "markdown",
      "source": [
        "##`Q-2: Bank Class`\n",
        "\n",
        "1. Create a Python class called `BankAccount` which represents a bank account, having as attributes: `accountNumber` (numeric type), `name` (name of the account owner as string type), `balance`.\n",
        "2. Create a constructor with parameters: `accountNumber, name, balance`.\n",
        "3. Create a `Deposit()` method which manages the deposit actions.\n",
        "4. Create a `Withdrawal()` method  which manages withdrawals actions.\n",
        "5. Create an `bankFees()` method to apply the bank fees with a percentage of 5% of the balance account.\n",
        "6. Create a `display()` method to display account details.\n",
        "Give the complete code for the  BankAccount class."
      ],
      "metadata": {
        "id": "r_GxrS0Vrdom"
      }
    },
    {
      "cell_type": "markdown",
      "source": [
        "Eg.\n",
        "After making above classes and methods, on executing below code:-\n",
        "```\n",
        "newAccount = BankAccount(2178514584, \"Mandy\" , 2800)\n",
        "\n",
        "newAccount.Withdrawal(700)\n",
        "\n",
        "newAccount.Deposit(1000)\n",
        "\n",
        "newAccount.display()\n",
        "```\n",
        "\n",
        "`Output:`\n",
        "```\n",
        "Account Number :  2178514584\n",
        "Account Name :  Mandy\n",
        "Account Balance :  3100 ₹\n",
        "```"
      ],
      "metadata": {
        "id": "qvVkOUJgvTV_"
      }
    },
    {
      "cell_type": "code",
      "source": [
        "# write your code here\n",
        "class BankAccount:\n",
        "  def __init__(self,accountNumber,name,balance):\n",
        "    self.__accountNumber=accountNumber\n",
        "    self.__name=name\n",
        "    self.__balance=balance\n",
        "  def deposit(self,amount):\n",
        "    self.__balance+=amount\n",
        "  def withdrawal(self,amount):\n",
        "    self.__balance-=amount\n",
        "  def bankFees(self):\n",
        "    self.__balance-=self.__balance*0.05\n",
        "  def display(self):\n",
        "    print(\"Account Number : \",self.__accountNumber)\n",
        "    print(\"Account Name : \",self.__name)\n",
        "    print(\"Account Balance : \",self.__balance,\"₹\")\n",
        "newAccount = BankAccount(2178514584, \"Mandy\" , 2800)\n",
        "newAccount.deposit(1000)\n",
        "newAccount.withdrawal(700)\n",
        "newAccount.display()\n"
      ],
      "metadata": {
        "id": "fUQOmQyA6YDR",
        "colab": {
          "base_uri": "https://localhost:8080/"
        },
        "outputId": "7c94b8d4-1352-4776-9dbb-7ef12d22ebe4"
      },
      "execution_count": 4,
      "outputs": [
        {
          "output_type": "stream",
          "name": "stdout",
          "text": [
            "Account Number :  2178514584\n",
            "Account Name :  Mandy\n",
            "Account Balance :  3100 ₹\n"
          ]
        }
      ]
    },
    {
      "cell_type": "markdown",
      "source": [
        "##`Q-3:Computation class`\n",
        "\n",
        "1. Create a `Computation` class with a default constructor (without parameters) allowing to perform various calculations on integers numbers.\n",
        "2. Create a method called `Factorial()` which allows to calculate the factorial of an integer n. Integer n as parameter for this method\n",
        "\n",
        "3. Create a method called `naturalSum()` allowing to calculate the sum of the first n integers 1 + 2 + 3 + .. + n. Integer n as parameter for this method.\n",
        "\n",
        "4. Create a method called `testPrime()` in  the Calculation class to test the primality of a given integer n, n is Prime or Not? Integer n as parameter for this method.\n",
        "\n",
        "5. Create  a method called `testPrims()` allowing to test if two numbers are prime between them. Two integers are prime to one another if they have only `1` as their common divisor. Eg. 4 and 9 are prime to each other.\n",
        "\n",
        "5. Create a `tableMult()` method which creates and displays the multiplication table of a given integer. Then create an `allTablesMult()` method to display all the integer multiplication tables 1, 2, 3, ..., 9.\n",
        "\n",
        "6. Create a static `listDiv()` method that gets all the divisors of a given integer on new list called  Ldiv. Create another `listDivPrim()` method that gets all the prime divisors of a given integer."
      ],
      "metadata": {
        "id": "QovcQAZTrgGU"
      }
    },
    {
      "cell_type": "code",
      "source": [
        "# write your code here\n",
        "class Computation:\n",
        "  def __init__(self):\n",
        "    pass\n",
        "  def factorial(self,n):\n",
        "    if n==0:\n",
        "      return 1\n",
        "    else:\n",
        "      return n*self.factorial(n-1)\n",
        "  def naturalSum(self,n):\n",
        "    sum=0\n",
        "    for i in range(1,n+1):\n",
        "      sum+=i\n",
        "    return sum\n",
        "  def testPrime(self,n):\n",
        "    if n==1:\n",
        "      return False\n",
        "    for i in range(2,n):\n",
        "      if n%i==0:\n",
        "        return False\n",
        "    return True\n",
        "  def tableMult(self,n):\n",
        "    for i in range(1,11):\n",
        "      print(n,\"*\",i,\"=\",n*i)\n",
        "  def allTablesMult(self):\n",
        "    for i in range(1,10):\n",
        "      print(\"Table of \",i)\n",
        "      for j in range(1,11):\n",
        "        print(i,\"*\",j,\"=\",i*j)\n",
        "obj1 = Computation()\n",
        "print(obj1.factorial(5))\n",
        "print(obj1.naturalSum(5))\n",
        "print(obj1.testPrime(5))\n",
        "obj1.tableMult(5)\n",
        "obj1.allTablesMult()\n",
        ""
      ],
      "metadata": {
        "id": "YEkPH70l6Z-o",
        "colab": {
          "base_uri": "https://localhost:8080/"
        },
        "outputId": "5be74b02-e7e4-476d-af10-fb511a9db9f7"
      },
      "execution_count": 5,
      "outputs": [
        {
          "output_type": "stream",
          "name": "stdout",
          "text": [
            "120\n",
            "15\n",
            "True\n",
            "5 * 1 = 5\n",
            "5 * 2 = 10\n",
            "5 * 3 = 15\n",
            "5 * 4 = 20\n",
            "5 * 5 = 25\n",
            "5 * 6 = 30\n",
            "5 * 7 = 35\n",
            "5 * 8 = 40\n",
            "5 * 9 = 45\n",
            "5 * 10 = 50\n",
            "Table of  1\n",
            "1 * 1 = 1\n",
            "1 * 2 = 2\n",
            "1 * 3 = 3\n",
            "1 * 4 = 4\n",
            "1 * 5 = 5\n",
            "1 * 6 = 6\n",
            "1 * 7 = 7\n",
            "1 * 8 = 8\n",
            "1 * 9 = 9\n",
            "1 * 10 = 10\n",
            "Table of  2\n",
            "2 * 1 = 2\n",
            "2 * 2 = 4\n",
            "2 * 3 = 6\n",
            "2 * 4 = 8\n",
            "2 * 5 = 10\n",
            "2 * 6 = 12\n",
            "2 * 7 = 14\n",
            "2 * 8 = 16\n",
            "2 * 9 = 18\n",
            "2 * 10 = 20\n",
            "Table of  3\n",
            "3 * 1 = 3\n",
            "3 * 2 = 6\n",
            "3 * 3 = 9\n",
            "3 * 4 = 12\n",
            "3 * 5 = 15\n",
            "3 * 6 = 18\n",
            "3 * 7 = 21\n",
            "3 * 8 = 24\n",
            "3 * 9 = 27\n",
            "3 * 10 = 30\n",
            "Table of  4\n",
            "4 * 1 = 4\n",
            "4 * 2 = 8\n",
            "4 * 3 = 12\n",
            "4 * 4 = 16\n",
            "4 * 5 = 20\n",
            "4 * 6 = 24\n",
            "4 * 7 = 28\n",
            "4 * 8 = 32\n",
            "4 * 9 = 36\n",
            "4 * 10 = 40\n",
            "Table of  5\n",
            "5 * 1 = 5\n",
            "5 * 2 = 10\n",
            "5 * 3 = 15\n",
            "5 * 4 = 20\n",
            "5 * 5 = 25\n",
            "5 * 6 = 30\n",
            "5 * 7 = 35\n",
            "5 * 8 = 40\n",
            "5 * 9 = 45\n",
            "5 * 10 = 50\n",
            "Table of  6\n",
            "6 * 1 = 6\n",
            "6 * 2 = 12\n",
            "6 * 3 = 18\n",
            "6 * 4 = 24\n",
            "6 * 5 = 30\n",
            "6 * 6 = 36\n",
            "6 * 7 = 42\n",
            "6 * 8 = 48\n",
            "6 * 9 = 54\n",
            "6 * 10 = 60\n",
            "Table of  7\n",
            "7 * 1 = 7\n",
            "7 * 2 = 14\n",
            "7 * 3 = 21\n",
            "7 * 4 = 28\n",
            "7 * 5 = 35\n",
            "7 * 6 = 42\n",
            "7 * 7 = 49\n",
            "7 * 8 = 56\n",
            "7 * 9 = 63\n",
            "7 * 10 = 70\n",
            "Table of  8\n",
            "8 * 1 = 8\n",
            "8 * 2 = 16\n",
            "8 * 3 = 24\n",
            "8 * 4 = 32\n",
            "8 * 5 = 40\n",
            "8 * 6 = 48\n",
            "8 * 7 = 56\n",
            "8 * 8 = 64\n",
            "8 * 9 = 72\n",
            "8 * 10 = 80\n",
            "Table of  9\n",
            "9 * 1 = 9\n",
            "9 * 2 = 18\n",
            "9 * 3 = 27\n",
            "9 * 4 = 36\n",
            "9 * 5 = 45\n",
            "9 * 6 = 54\n",
            "9 * 7 = 63\n",
            "9 * 8 = 72\n",
            "9 * 9 = 81\n",
            "9 * 10 = 90\n"
          ]
        }
      ]
    },
    {
      "cell_type": "markdown",
      "source": [
        "##`Q-4`: Build flashcard using class in Python.\n",
        "\n",
        "Build a flashcard using class in python. A flashcard is a card having information on both sides, which can be used as an aid in memoization. Flashcards usually have a question on one side and an answer on the other.\n",
        "\n",
        "**Example 1:**\n",
        "\n",
        "Approach:\n",
        "\n",
        "- Create a class named FlashCard.\n",
        "- Initialize dictionary fruits using __init__() method. Here you have to define fruit name as key and it's color as value. E.g., {\"Banana\": \"yellow\", \"Strawberries\": \"pink\"}\n",
        "- Now randomly choose a pair from fruits by using _random_ module and store the key in variable _fruit_ and _value_ in variable color.\n",
        "- Now prompt the user to answer the color of the randomly chosen fruit.\n",
        "- If correct print correct else print wrong.\n",
        "\n",
        "Output:\n",
        "```bash\n",
        "welcome to fruit quiz\n",
        "What is the color of Strawberries\n",
        "pink\n",
        "Correct answer\n",
        "Enter 0, if you want to play again: 0\n",
        "What is the color of watermelon\n",
        "green\n",
        "Correct answer\n",
        "Enter 0, if you want to play again: 1\n",
        "```"
      ],
      "metadata": {
        "id": "0yn23_oEriXa"
      }
    },
    {
      "cell_type": "code",
      "source": [
        "# write your code here\n",
        "class FlashCard:\n",
        "  def __init__(self):\n",
        "    self.__fruits={\"Banana\": \"yellow\", \"Strawberries\": \"pink\",'watermelon':'green','guava':'green'}\n",
        "  def quiz(self):\n",
        "    import random\n",
        "    print(\"Welcome to fruit quiz\")\n",
        "    while True:\n",
        "      fruit,color=random.choices(list(self.__fruits.items()))[0]\n",
        "      user_input=input(\"What is the color of \"+fruit+\" \")\n",
        "      if user_input.lower()==color.lower():\n",
        "        print(\"Correct answer\")\n",
        "      else:\n",
        "        print(\"Wrong answer\")\n",
        "      option = int(input(\"Enter 0, if you want to play again: \"))\n",
        "      if option==1:\n",
        "        break\n",
        "obj1 = FlashCard()\n",
        "obj1.quiz()"
      ],
      "metadata": {
        "id": "vCrUF6VU6l6w",
        "colab": {
          "base_uri": "https://localhost:8080/"
        },
        "outputId": "359b75be-0d0d-4d50-b273-21ed8f1b2bb6"
      },
      "execution_count": 4,
      "outputs": [
        {
          "name": "stdout",
          "output_type": "stream",
          "text": [
            "Welcome to fruit quiz\n",
            "What is the color of Banana yellow\n",
            "Correct answer\n",
            "Enter 0, if you want to play again: 0\n",
            "What is the color of Strawberries pink\n",
            "Correct answer\n",
            "Enter 0, if you want to play again: 0\n",
            "What is the color of watermelon green\n",
            "Correct answer\n",
            "Enter 0, if you want to play again: 0\n",
            "What is the color of watermelon green\n",
            "Correct answer\n",
            "Enter 0, if you want to play again: 0\n",
            "What is the color of Banana yellow\n",
            "Correct answer\n",
            "Enter 0, if you want to play again: 0\n",
            "What is the color of guava green\n",
            "Correct answer\n",
            "Enter 0, if you want to play again: 1\n"
          ]
        }
      ]
    },
    {
      "cell_type": "markdown",
      "source": [
        "## `Q-5:` Problem 5 based on OOP Python.\n",
        "\n",
        "TechWorld, a technology training center, wants to allocate courses for instructors. An instructor is identified by name, technology skills, experience and average feedback. An instructor is allocated a course, if he/she satisfies the below two conditions:\n",
        "- eligibility criteria:\n",
        "    - if experience is more than 3 years, average feedback should be 4.5 or more\n",
        "    - if experience is 3 years or less, average feedback should be 4 or more\n",
        "- he/she should posses the technology skill for the course\n",
        "\n",
        "Identify the class name and attributes to represent instructors. Write a Python program to implement the class chosen with its attributes and methods.\n",
        "\n",
        "**Note:**\n",
        "- Consider all instance variables to be private and methods to be public.\n",
        "- An instructor may have multiple technology skills, so consider instance variable, technology_skill to be a list.\n",
        "- *check_eligibility()*: Return true if eligibility criteria is satisfied by the instructor. Else, return false\n",
        "- *allocate_course(technology)*: Return true if the course which requires the given technology can be allocated to the instructor. Else, return false.\n",
        "\n",
        "Represent a few objects of the class, initialize instance variables using setter methods, invoke\n",
        "appropriate methods and test your program."
      ],
      "metadata": {
        "id": "GN2r0jbRewYr"
      }
    },
    {
      "cell_type": "code",
      "source": [
        "# write your code here\n",
        "class Instructor:\n",
        "  def __init__(self,name,technology_skill,experience,average_feedback):\n",
        "    self.__name=name\n",
        "    self.__technology_skill=technology_skill\n",
        "    self.__experience=experience\n",
        "    self.__average_feedback=average_feedback\n",
        "  def check_eligibility(self):\n",
        "    if self.__experience>3 and self.__average_feedback>=4.5:\n",
        "      return True\n",
        "    elif self.__experience<=3 and self.__average_feedback>=4:\n",
        "      return True\n",
        "    else:\n",
        "      return False\n",
        "  def allocate_course(self,technology):\n",
        "    is_eligible=self.check_eligibility()\n",
        "    if is_eligible:\n",
        "      if technology in self.__technology_skill:\n",
        "         return 'Padha Sakta hai'\n",
        "      else:\n",
        "        return 'Ye to usko aata hi nahi hai'\n",
        "    else:\n",
        "      return 'Acha nhi padhata hai'\n",
        "\n",
        "\n",
        "instructor1 = Instructor(\"John\",['Data science','Web development'],4,4.5)\n",
        "instructor1.allocate_course('Data science')"
      ],
      "metadata": {
        "id": "pdMFuVFnlvKL",
        "colab": {
          "base_uri": "https://localhost:8080/",
          "height": 36
        },
        "outputId": "a86238a0-2654-40fc-e4d1-a2f763ba0bbb"
      },
      "execution_count": 2,
      "outputs": [
        {
          "output_type": "execute_result",
          "data": {
            "text/plain": [
              "'Padha Sakta hai'"
            ],
            "application/vnd.google.colaboratory.intrinsic+json": {
              "type": "string"
            }
          },
          "metadata": {},
          "execution_count": 2
        }
      ]
    }
  ]
}